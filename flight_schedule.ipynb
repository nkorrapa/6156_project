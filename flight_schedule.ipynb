{
 "cells": [
  {
   "cell_type": "code",
   "execution_count": 1,
   "metadata": {},
   "outputs": [],
   "source": [
    "# read in data\n",
    "import pandas as pd\n",
    "data = pd.read_csv(\"data/T_ONTIME_REPORTING.csv\")"
   ]
  },
  {
   "cell_type": "code",
   "execution_count": 6,
   "metadata": {},
   "outputs": [],
   "source": [
    "schedule = data[['FL_DATE', 'OP_CARRIER_AIRLINE_ID', 'ORIGIN_AIRPORT_ID','ORIGIN_CITY_MARKET_ID','ORIGIN', 'DEST_AIRPORT_ID', 'DEST_CITY_MARKET_ID', 'DEST', 'CRS_DEP_TIME', 'CRS_ARR_TIME']]\n",
    "schedule['FL_DATE'] = pd.to_datetime(schedule['FL_DATE'])\n",
    "schedule['day_of_week'] = schedule['FL_DATE'].dt.day_name()\n",
    "#remove date col\n",
    "schedule.drop(columns=['FL_DATE'], inplace = True)"
   ]
  },
  {
   "cell_type": "code",
   "execution_count": 24,
   "metadata": {},
   "outputs": [],
   "source": [
    "# get unique\n",
    "sched_final = schedule.drop_duplicates(keep=False)"
   ]
  }
 ],
 "metadata": {
  "kernelspec": {
   "display_name": ".6156_project",
   "language": "python",
   "name": "python3"
  },
  "language_info": {
   "codemirror_mode": {
    "name": "ipython",
    "version": 3
   },
   "file_extension": ".py",
   "mimetype": "text/x-python",
   "name": "python",
   "nbconvert_exporter": "python",
   "pygments_lexer": "ipython3",
   "version": "3.13.0"
  }
 },
 "nbformat": 4,
 "nbformat_minor": 2
}
