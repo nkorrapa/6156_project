{
 "cells": [
  {
   "cell_type": "code",
   "execution_count": 2,
   "metadata": {},
   "outputs": [],
   "source": [
    "# take lookup tables, and flight schedules and combine\n",
    "# take flight schedule and get unique combos\n",
    "# combine w/ lookup tables\n",
    "import pandas as pd"
   ]
  },
  {
   "cell_type": "code",
   "execution_count": 3,
   "metadata": {},
   "outputs": [],
   "source": [
    "airport_city = pd.read_csv(\"data/flight_schedule.csv\")\n",
    "city_market = pd.read_csv(\"data/lookup_tables/L_CITY_MARKET_ID.csv\")"
   ]
  },
  {
   "cell_type": "code",
   "execution_count": 4,
   "metadata": {},
   "outputs": [
    {
     "name": "stderr",
     "output_type": "stream",
     "text": [
      "/var/folders/jq/51d8jm5x4v5crly84p0n52qr0000gn/T/ipykernel_90985/4084766352.py:3: SettingWithCopyWarning: \n",
      "A value is trying to be set on a copy of a slice from a DataFrame\n",
      "\n",
      "See the caveats in the documentation: https://pandas.pydata.org/pandas-docs/stable/user_guide/indexing.html#returning-a-view-versus-a-copy\n",
      "  list_1.rename(columns={'ORIGIN_CITY_MARKET_ID': 'CITY_MARKET', 'ORIGIN': 'AIRPORT', 'ORIGIN_AIRPORT_ID': 'AIRPORT_ID'}, inplace=True)\n",
      "/var/folders/jq/51d8jm5x4v5crly84p0n52qr0000gn/T/ipykernel_90985/4084766352.py:4: SettingWithCopyWarning: \n",
      "A value is trying to be set on a copy of a slice from a DataFrame\n",
      "\n",
      "See the caveats in the documentation: https://pandas.pydata.org/pandas-docs/stable/user_guide/indexing.html#returning-a-view-versus-a-copy\n",
      "  list_2.rename(columns={'DEST_CITY_MARKET_ID': 'CITY_MARKET', 'DEST': 'AIRPORT', 'DEST_AIRPORT_ID': 'AIRPORT_ID'}, inplace=True)\n"
     ]
    }
   ],
   "source": [
    "list_1 = airport_city[[\"ORIGIN_CITY_MARKET_ID\", \"ORIGIN\", \"ORIGIN_AIRPORT_ID\"]]\n",
    "list_2 = airport_city[[\"DEST_CITY_MARKET_ID\", \"DEST\", \"DEST_AIRPORT_ID\"]]\n",
    "list_1.rename(columns={'ORIGIN_CITY_MARKET_ID': 'CITY_MARKET', 'ORIGIN': 'AIRPORT', 'ORIGIN_AIRPORT_ID': 'AIRPORT_ID'}, inplace=True)\n",
    "list_2.rename(columns={'DEST_CITY_MARKET_ID': 'CITY_MARKET', 'DEST': 'AIRPORT', 'DEST_AIRPORT_ID': 'AIRPORT_ID'}, inplace=True)"
   ]
  },
  {
   "cell_type": "code",
   "execution_count": 5,
   "metadata": {},
   "outputs": [
    {
     "data": {
      "text/plain": [
       "169556"
      ]
     },
     "execution_count": 5,
     "metadata": {},
     "output_type": "execute_result"
    }
   ],
   "source": [
    "combo = pd.concat([list_1, list_2])\n",
    "len(combo)"
   ]
  },
  {
   "cell_type": "code",
   "execution_count": 6,
   "metadata": {},
   "outputs": [
    {
     "data": {
      "text/plain": [
       "333"
      ]
     },
     "execution_count": 6,
     "metadata": {},
     "output_type": "execute_result"
    }
   ],
   "source": [
    "combo.drop_duplicates(inplace = True)\n",
    "len(combo)"
   ]
  },
  {
   "cell_type": "code",
   "execution_count": 7,
   "metadata": {},
   "outputs": [
    {
     "data": {
      "text/html": [
       "<div>\n",
       "<style scoped>\n",
       "    .dataframe tbody tr th:only-of-type {\n",
       "        vertical-align: middle;\n",
       "    }\n",
       "\n",
       "    .dataframe tbody tr th {\n",
       "        vertical-align: top;\n",
       "    }\n",
       "\n",
       "    .dataframe thead th {\n",
       "        text-align: right;\n",
       "    }\n",
       "</style>\n",
       "<table border=\"1\" class=\"dataframe\">\n",
       "  <thead>\n",
       "    <tr style=\"text-align: right;\">\n",
       "      <th></th>\n",
       "      <th>CITY_MARKET</th>\n",
       "      <th>AIRPORT</th>\n",
       "      <th>AIRPORT_ID</th>\n",
       "      <th>Description</th>\n",
       "    </tr>\n",
       "  </thead>\n",
       "  <tbody>\n",
       "    <tr>\n",
       "      <th>0</th>\n",
       "      <td>30194</td>\n",
       "      <td>DAL</td>\n",
       "      <td>11259</td>\n",
       "      <td>Dallas/Fort Worth, TX</td>\n",
       "    </tr>\n",
       "    <tr>\n",
       "      <th>1</th>\n",
       "      <td>31453</td>\n",
       "      <td>HOU</td>\n",
       "      <td>12191</td>\n",
       "      <td>Houston, TX</td>\n",
       "    </tr>\n",
       "    <tr>\n",
       "      <th>2</th>\n",
       "      <td>31454</td>\n",
       "      <td>MCO</td>\n",
       "      <td>13204</td>\n",
       "      <td>Orlando, FL</td>\n",
       "    </tr>\n",
       "    <tr>\n",
       "      <th>3</th>\n",
       "      <td>34492</td>\n",
       "      <td>RDU</td>\n",
       "      <td>14492</td>\n",
       "      <td>Raleigh/Durham, NC</td>\n",
       "    </tr>\n",
       "    <tr>\n",
       "      <th>4</th>\n",
       "      <td>30977</td>\n",
       "      <td>MDW</td>\n",
       "      <td>13232</td>\n",
       "      <td>Chicago, IL</td>\n",
       "    </tr>\n",
       "  </tbody>\n",
       "</table>\n",
       "</div>"
      ],
      "text/plain": [
       "   CITY_MARKET AIRPORT  AIRPORT_ID            Description\n",
       "0        30194     DAL       11259  Dallas/Fort Worth, TX\n",
       "1        31453     HOU       12191            Houston, TX\n",
       "2        31454     MCO       13204            Orlando, FL\n",
       "3        34492     RDU       14492     Raleigh/Durham, NC\n",
       "4        30977     MDW       13232            Chicago, IL"
      ]
     },
     "execution_count": 7,
     "metadata": {},
     "output_type": "execute_result"
    }
   ],
   "source": [
    "airport_cities = combo.merge(city_market, left_on=\"CITY_MARKET\", right_on=\"Code\")\n",
    "airport_cities.drop('Code', axis= 1, inplace=True)\n",
    "airport_cities.head()\n"
   ]
  },
  {
   "cell_type": "code",
   "execution_count": 8,
   "metadata": {},
   "outputs": [],
   "source": [
    "airport_cities.to_csv('data/airport_cities.csv', index = False)"
   ]
  }
 ],
 "metadata": {
  "kernelspec": {
   "display_name": "6156",
   "language": "python",
   "name": "python3"
  },
  "language_info": {
   "codemirror_mode": {
    "name": "ipython",
    "version": 3
   },
   "file_extension": ".py",
   "mimetype": "text/x-python",
   "name": "python",
   "nbconvert_exporter": "python",
   "pygments_lexer": "ipython3",
   "version": "3.9.20"
  }
 },
 "nbformat": 4,
 "nbformat_minor": 2
}
