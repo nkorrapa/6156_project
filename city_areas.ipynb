{
 "cells": [
  {
   "cell_type": "code",
   "execution_count": 6,
   "metadata": {},
   "outputs": [],
   "source": [
    "# take lookup tables, and flight schedules and combine\n",
    "# take flight schedule and get unique combos\n",
    "# combine w/ lookup tables\n",
    "import pandas as pd"
   ]
  },
  {
   "cell_type": "code",
   "execution_count": 24,
   "metadata": {},
   "outputs": [],
   "source": [
    "airport_city = pd.read_csv(\"data/flight_schedule.csv\")\n",
    "city_market = pd.read_csv(\"data/lookup_tables/L_CITY_MARKET_ID.csv\")"
   ]
  },
  {
   "cell_type": "code",
   "execution_count": 19,
   "metadata": {},
   "outputs": [
    {
     "name": "stderr",
     "output_type": "stream",
     "text": [
      "/var/folders/jq/51d8jm5x4v5crly84p0n52qr0000gn/T/ipykernel_89333/897283318.py:3: SettingWithCopyWarning: \n",
      "A value is trying to be set on a copy of a slice from a DataFrame\n",
      "\n",
      "See the caveats in the documentation: https://pandas.pydata.org/pandas-docs/stable/user_guide/indexing.html#returning-a-view-versus-a-copy\n",
      "  list_1.rename(columns={'ORIGIN_CITY_MARKET_ID': 'CITY_MARKET', 'ORIGIN': 'AIRPORT'}, inplace=True)\n",
      "/var/folders/jq/51d8jm5x4v5crly84p0n52qr0000gn/T/ipykernel_89333/897283318.py:4: SettingWithCopyWarning: \n",
      "A value is trying to be set on a copy of a slice from a DataFrame\n",
      "\n",
      "See the caveats in the documentation: https://pandas.pydata.org/pandas-docs/stable/user_guide/indexing.html#returning-a-view-versus-a-copy\n",
      "  list_2.rename(columns={'DEST_CITY_MARKET_ID': 'CITY_MARKET', 'DEST': 'AIRPORT'}, inplace=True)\n"
     ]
    }
   ],
   "source": [
    "list_1 = airport_city[[\"ORIGIN_CITY_MARKET_ID\", \"ORIGIN\"]]\n",
    "list_2 = airport_city[[\"DEST_CITY_MARKET_ID\", \"DEST\"]]\n",
    "list_1.rename(columns={'ORIGIN_CITY_MARKET_ID': 'CITY_MARKET', 'ORIGIN': 'AIRPORT'}, inplace=True)\n",
    "list_2.rename(columns={'DEST_CITY_MARKET_ID': 'CITY_MARKET', 'DEST': 'AIRPORT'}, inplace=True)"
   ]
  },
  {
   "cell_type": "code",
   "execution_count": 21,
   "metadata": {},
   "outputs": [
    {
     "data": {
      "text/plain": [
       "169556"
      ]
     },
     "execution_count": 21,
     "metadata": {},
     "output_type": "execute_result"
    }
   ],
   "source": [
    "combo = pd.concat([list_1, list_2])\n",
    "len(combo)"
   ]
  },
  {
   "cell_type": "code",
   "execution_count": 22,
   "metadata": {},
   "outputs": [
    {
     "data": {
      "text/plain": [
       "333"
      ]
     },
     "execution_count": 22,
     "metadata": {},
     "output_type": "execute_result"
    }
   ],
   "source": [
    "combo.drop_duplicates(inplace = True)\n",
    "len(combo)"
   ]
  },
  {
   "cell_type": "code",
   "execution_count": 28,
   "metadata": {},
   "outputs": [
    {
     "data": {
      "text/html": [
       "<div>\n",
       "<style scoped>\n",
       "    .dataframe tbody tr th:only-of-type {\n",
       "        vertical-align: middle;\n",
       "    }\n",
       "\n",
       "    .dataframe tbody tr th {\n",
       "        vertical-align: top;\n",
       "    }\n",
       "\n",
       "    .dataframe thead th {\n",
       "        text-align: right;\n",
       "    }\n",
       "</style>\n",
       "<table border=\"1\" class=\"dataframe\">\n",
       "  <thead>\n",
       "    <tr style=\"text-align: right;\">\n",
       "      <th></th>\n",
       "      <th>CITY_MARKET</th>\n",
       "      <th>AIRPORT</th>\n",
       "      <th>Description</th>\n",
       "    </tr>\n",
       "  </thead>\n",
       "  <tbody>\n",
       "    <tr>\n",
       "      <th>0</th>\n",
       "      <td>30194</td>\n",
       "      <td>DAL</td>\n",
       "      <td>Dallas/Fort Worth, TX</td>\n",
       "    </tr>\n",
       "    <tr>\n",
       "      <th>1</th>\n",
       "      <td>31453</td>\n",
       "      <td>HOU</td>\n",
       "      <td>Houston, TX</td>\n",
       "    </tr>\n",
       "    <tr>\n",
       "      <th>2</th>\n",
       "      <td>31454</td>\n",
       "      <td>MCO</td>\n",
       "      <td>Orlando, FL</td>\n",
       "    </tr>\n",
       "    <tr>\n",
       "      <th>3</th>\n",
       "      <td>34492</td>\n",
       "      <td>RDU</td>\n",
       "      <td>Raleigh/Durham, NC</td>\n",
       "    </tr>\n",
       "    <tr>\n",
       "      <th>4</th>\n",
       "      <td>30977</td>\n",
       "      <td>MDW</td>\n",
       "      <td>Chicago, IL</td>\n",
       "    </tr>\n",
       "  </tbody>\n",
       "</table>\n",
       "</div>"
      ],
      "text/plain": [
       "   CITY_MARKET AIRPORT            Description\n",
       "0        30194     DAL  Dallas/Fort Worth, TX\n",
       "1        31453     HOU            Houston, TX\n",
       "2        31454     MCO            Orlando, FL\n",
       "3        34492     RDU     Raleigh/Durham, NC\n",
       "4        30977     MDW            Chicago, IL"
      ]
     },
     "execution_count": 28,
     "metadata": {},
     "output_type": "execute_result"
    }
   ],
   "source": [
    "airport_cities = combo.merge(city_market, left_on=\"CITY_MARKET\", right_on=\"Code\")\n",
    "airport_cities.drop('Code', axis= 1, inplace=True)\n",
    "airport_cities.head()\n"
   ]
  },
  {
   "cell_type": "code",
   "execution_count": 29,
   "metadata": {},
   "outputs": [],
   "source": [
    "airport_cities.to_csv('data/airport_cities.csv', index = False)"
   ]
  }
 ],
 "metadata": {
  "kernelspec": {
   "display_name": "6156",
   "language": "python",
   "name": "python3"
  },
  "language_info": {
   "codemirror_mode": {
    "name": "ipython",
    "version": 3
   },
   "file_extension": ".py",
   "mimetype": "text/x-python",
   "name": "python",
   "nbconvert_exporter": "python",
   "pygments_lexer": "ipython3",
   "version": "3.9.20"
  }
 },
 "nbformat": 4,
 "nbformat_minor": 2
}
