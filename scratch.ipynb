{
 "cells": [
  {
   "cell_type": "code",
   "execution_count": 19,
   "metadata": {},
   "outputs": [],
   "source": [
    "import pandas as pd\n",
    "import numpy as np\n",
    "from sklearn.preprocessing import LabelEncoder\n",
    "from sklearn.model_selection import train_test_split\n",
    "from sklearn.preprocessing import StandardScaler\n",
    "from tensorflow.keras.models import Sequential\n",
    "from tensorflow.keras.layers import Dense, Dropout"
   ]
  },
  {
   "cell_type": "code",
   "execution_count": 20,
   "metadata": {},
   "outputs": [],
   "source": [
    "data = pd.read_csv('data/T_ONTIME_REPORTING.csv')\n"
   ]
  },
  {
   "cell_type": "code",
   "execution_count": 21,
   "metadata": {},
   "outputs": [
    {
     "name": "stderr",
     "output_type": "stream",
     "text": [
      "/var/folders/jq/51d8jm5x4v5crly84p0n52qr0000gn/T/ipykernel_77207/2353669202.py:1: UserWarning: Could not infer format, so each element will be parsed individually, falling back to `dateutil`. To ensure parsing is consistent and as-expected, please specify a format.\n",
      "  data['FL_DATE'] = pd.to_datetime(data['FL_DATE'])\n"
     ]
    }
   ],
   "source": [
    "data['FL_DATE'] = pd.to_datetime(data['FL_DATE'])\n",
    "data['DAY_OF_WEEK'] = data['FL_DATE'].dt.day_name()\n",
    "data.drop(columns=['FL_DATE'], inplace = True)\n"
   ]
  },
  {
   "cell_type": "code",
   "execution_count": 22,
   "metadata": {},
   "outputs": [],
   "source": [
    "# want to keep airline_id, origin, dest, carrier dealy, weather dealy, nas delay, security delay, late aircraft delay, crs dep time, crs arrival time, day of week\n",
    "data_trim = data [['OP_CARRIER_AIRLINE_ID', 'ORIGIN', 'DEST', 'DAY_OF_WEEK', 'CRS_DEP_TIME', 'CRS_ARR_TIME', 'CARRIER_DELAY', 'WEATHER_DELAY', 'NAS_DELAY', 'SECURITY_DELAY', 'LATE_AIRCRAFT_DELAY']]\n"
   ]
  },
  {
   "cell_type": "code",
   "execution_count": 23,
   "metadata": {},
   "outputs": [],
   "source": [
    "data_trim = data_trim.fillna(0)"
   ]
  },
  {
   "cell_type": "code",
   "execution_count": 24,
   "metadata": {},
   "outputs": [],
   "source": [
    "data_trim['TOTAL_DELAY'] = data_trim[['CARRIER_DELAY', 'WEATHER_DELAY', 'NAS_DELAY', 'SECURITY_DELAY', 'LATE_AIRCRAFT_DELAY']].sum(axis=1)\n"
   ]
  },
  {
   "cell_type": "code",
   "execution_count": 25,
   "metadata": {},
   "outputs": [],
   "source": [
    "data_trim['IS_DELAY'] = np.where(data_trim['TOTAL_DELAY'] > 0, 1, 0)\n"
   ]
  },
  {
   "cell_type": "code",
   "execution_count": null,
   "metadata": {},
   "outputs": [
    {
     "data": {
      "text/html": [
       "<div>\n",
       "<style scoped>\n",
       "    .dataframe tbody tr th:only-of-type {\n",
       "        vertical-align: middle;\n",
       "    }\n",
       "\n",
       "    .dataframe tbody tr th {\n",
       "        vertical-align: top;\n",
       "    }\n",
       "\n",
       "    .dataframe thead th {\n",
       "        text-align: right;\n",
       "    }\n",
       "</style>\n",
       "<table border=\"1\" class=\"dataframe\">\n",
       "  <thead>\n",
       "    <tr style=\"text-align: right;\">\n",
       "      <th></th>\n",
       "      <th>OP_CARRIER_AIRLINE_ID</th>\n",
       "      <th>ORIGIN</th>\n",
       "      <th>DEST</th>\n",
       "      <th>DAY_OF_WEEK</th>\n",
       "      <th>CRS_DEP_TIME</th>\n",
       "      <th>CRS_ARR_TIME</th>\n",
       "      <th>IS_DELAY</th>\n",
       "      <th>TOTAL_DELAY</th>\n",
       "    </tr>\n",
       "  </thead>\n",
       "  <tbody>\n",
       "    <tr>\n",
       "      <th>0</th>\n",
       "      <td>19393</td>\n",
       "      <td>DAL</td>\n",
       "      <td>HOU</td>\n",
       "      <td>Saturday</td>\n",
       "      <td>1800</td>\n",
       "      <td>1910</td>\n",
       "      <td>1</td>\n",
       "      <td>33.0</td>\n",
       "    </tr>\n",
       "    <tr>\n",
       "      <th>1</th>\n",
       "      <td>19393</td>\n",
       "      <td>HOU</td>\n",
       "      <td>CRP</td>\n",
       "      <td>Saturday</td>\n",
       "      <td>2000</td>\n",
       "      <td>2105</td>\n",
       "      <td>0</td>\n",
       "      <td>0.0</td>\n",
       "    </tr>\n",
       "    <tr>\n",
       "      <th>2</th>\n",
       "      <td>19393</td>\n",
       "      <td>HOU</td>\n",
       "      <td>DAL</td>\n",
       "      <td>Saturday</td>\n",
       "      <td>850</td>\n",
       "      <td>1005</td>\n",
       "      <td>0</td>\n",
       "      <td>0.0</td>\n",
       "    </tr>\n",
       "    <tr>\n",
       "      <th>3</th>\n",
       "      <td>19393</td>\n",
       "      <td>MCO</td>\n",
       "      <td>IND</td>\n",
       "      <td>Saturday</td>\n",
       "      <td>1410</td>\n",
       "      <td>1635</td>\n",
       "      <td>0</td>\n",
       "      <td>0.0</td>\n",
       "    </tr>\n",
       "    <tr>\n",
       "      <th>4</th>\n",
       "      <td>19393</td>\n",
       "      <td>MCO</td>\n",
       "      <td>BWI</td>\n",
       "      <td>Saturday</td>\n",
       "      <td>940</td>\n",
       "      <td>1200</td>\n",
       "      <td>0</td>\n",
       "      <td>0.0</td>\n",
       "    </tr>\n",
       "  </tbody>\n",
       "</table>\n",
       "</div>"
      ],
      "text/plain": [
       "   OP_CARRIER_AIRLINE_ID ORIGIN DEST DAY_OF_WEEK  CRS_DEP_TIME  CRS_ARR_TIME  \\\n",
       "0                  19393    DAL  HOU    Saturday          1800          1910   \n",
       "1                  19393    HOU  CRP    Saturday          2000          2105   \n",
       "2                  19393    HOU  DAL    Saturday           850          1005   \n",
       "3                  19393    MCO  IND    Saturday          1410          1635   \n",
       "4                  19393    MCO  BWI    Saturday           940          1200   \n",
       "\n",
       "   IS_DELAY  TOTAL_DELAY  \n",
       "0         1         33.0  \n",
       "1         0          0.0  \n",
       "2         0          0.0  \n",
       "3         0          0.0  \n",
       "4         0          0.0  "
      ]
     },
     "execution_count": 27,
     "metadata": {},
     "output_type": "execute_result"
    }
   ],
   "source": [
    "dataset = data_trim[['OP_CARRIER_AIRLINE_ID', 'ORIGIN', 'DEST', 'DAY_OF_WEEK', 'CRS_DEP_TIME', 'CRS_ARR_TIME','IS_DELAY', 'TOTAL_DELAY']]\n"
   ]
  }
 ],
 "metadata": {
  "kernelspec": {
   "display_name": "6156",
   "language": "python",
   "name": "python3"
  },
  "language_info": {
   "codemirror_mode": {
    "name": "ipython",
    "version": 3
   },
   "file_extension": ".py",
   "mimetype": "text/x-python",
   "name": "python",
   "nbconvert_exporter": "python",
   "pygments_lexer": "ipython3",
   "version": "3.9.20"
  }
 },
 "nbformat": 4,
 "nbformat_minor": 2
}
